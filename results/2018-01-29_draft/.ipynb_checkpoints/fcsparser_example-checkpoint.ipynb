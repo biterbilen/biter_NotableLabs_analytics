{
 "cells": [
  {
   "cell_type": "markdown",
   "metadata": {},
   "source": [
    "# Working with the fcs parser\n",
    "\n",
    "**ATTENTION** The parser returns the data exactly as recorded in the file. This means that no transformations or compensation have been applied to this data. It is up to you to transform the data from this point for doing analysis and visualization."
   ]
  },
  {
   "cell_type": "code",
   "execution_count": 1,
   "metadata": {
    "collapsed": false
   },
   "outputs": [],
   "source": [
    "#%pylab inline"
   ]
  },
  {
   "cell_type": "code",
   "execution_count": 5,
   "metadata": {
    "collapsed": false
   },
   "outputs": [
    {
     "name": "stdout",
     "output_type": "stream",
     "text": [
      "\n",
      "TYPE: <type 'dict'> <class 'pandas.core.frame.DataFrame'>\n",
      "\n",
      "MTA COLUMNS: [u'FSC-H', u'SSC-H', u'CD66B H : FITC H', u'KIT H : PE H', u'BL3-H', u'BL4-H', u'CD19 H : CD3 H : PE-CY7 H', u'CD11C H : APC H', u'CD11B H : APC-CY7 H', u'DAPI H', u'CD33 H : BV510 H', u'VL3-H', u'CD34 H : BV605 H', u'VL5-H', u'VL6-H', u'FSC-A', u'SSC-A', u'CD66B A : FITC A', u'KIT A : PE A', u'BL3-A', u'BL4-A', u'CD19 A : CD3 A : PE-CY7 A', u'CD11C A : APC A', u'CD11B A : APC-CY7 A', u'DAPI A', u'CD33 A : BV510 A', u'VL3-A', u'CD34 A : BV605 A', u'VL5-A', u'VL6-A', u'Width', u'Time', u'Well']\n",
      "\n",
      "DTAshape: (0, 33) MINshape: (20, 32)\n",
      "\n",
      "MTA COLUMNS 1: [u'FSC-H', u'SSC-H', u'CD66B H : FITC H', u'KIT H : PE H', u'BL3-H', u'BL4-H', u'CD19 H : CD3 H : PE-CY7 H', u'CD11C H : APC H', u'CD11B H : APC-CY7 H', u'DAPI H', u'CD33 H : BV510 H', u'VL3-H', u'CD34 H : BV605 H', u'VL5-H', u'VL6-H', u'FSC-A', u'SSC-A', u'CD66B A : FITC A', u'KIT A : PE A', u'BL3-A', u'BL4-A', u'CD19 A : CD3 A : PE-CY7 A', u'CD11C A : APC A', u'CD11B A : APC-CY7 A', u'DAPI A', u'CD33 A : BV510 A', u'VL3-A', u'CD34 A : BV605 A', u'VL5-A', u'VL6-A', u'Width', u'Time', u'Well']\n",
      "Well_C03.fcs\n",
      "(43745, 32) 32 [751796.4375, 268924.15625, 17420.265625, 7629.28369140625, 9241.2587890625, 6231.9619140625, 21172.814453125, 14469.8447265625, 11128.4755859375, 27519.935546875, 189098.78125, 36875.6328125, 35881.83984375, 13525.1552734375, 7688.81494140625, 281901.28125, 94078.59375, 27380.494140625, 12123.416015625, 13607.4736328125, 3956.04638671875, 32611.10546875, 20922.783203125, 17764.845703125, 42171.5703125, 293690.65625, 55835.33984375, 53568.0234375, 13752.1845703125, 6580.7734375, 57.43412780761719, 9545.7265625]\n",
      "(87490, 33) 32 [13607.47265625, 9241.22265625, 3956.04443359375, 6231.96728515625, 17764.724609375, 11128.4599609375, 20922.771484375, 14469.7861328125, 32611.13671875, 21172.853515625, 293692.34375, 189099.1875, 53567.84765625, 35881.66796875, 27380.623046875, 17420.23046875, 42171.6953125, 27520.060546875, 281900.53125, 751796.1875, 12123.416015625, 7629.27685546875, 94078.53125, 268923.75, 9545.6728515625, 55835.23046875, 36875.6875, 13752.2138671875, 13525.1279296875, 6580.82666015625, 7688.81494140625, 57.43412780761719]\n",
      "Well_C03.fcs [u'$ETIM', u'PrimeDuringPreplateShake'] (43745, 32) (87490, 33) [u'BL3-H' u'BL4-A'] [u'BL3-H' u'BL4-A']\n",
      "Well_C04.fcs\n",
      "(49505, 32) 32 [715553.9375, 319790.28125, 20154.740234375, 8473.8173828125, 9848.4677734375, 6291.912109375, 15823.796875, 15079.7021484375, 13128.9384765625, 43389.83984375, 285913.125, 59093.421875, 50114.28125, 15361.666015625, 7907.1875, 260234.625, 107949.0546875, 31757.236328125, 13475.9169921875, 14928.4599609375, 4218.1396484375, 23012.70703125, 21345.796875, 19946.921875, 66934.1875, 445938.9375, 91701.0390625, 78420.53125, 18325.37890625, 6020.39208984375, 56.358612060546875, 11503.7939453125]\n",
      "(99010, 33) 32 [14928.5068359375, 9848.5185546875, 4218.14599609375, 6291.95556640625, 19946.818359375, 13128.958984375, 21345.68359375, 15079.7626953125, 23012.693359375, 15823.79296875, 445940.46875, 285913.28125, 78420.28125, 50114.296875, 31757.3203125, 20154.67578125, 66934.3359375, 43389.86328125, 260234.625, 715551.8125, 13475.9873046875, 8473.8125, 107949.40625, 319789.125, 11503.783203125, 91701.203125, 59093.60546875, 18325.349609375, 15361.62890625, 6020.353515625, 7907.1904296875, 56.358612060546875]\n",
      "Well_C04.fcs [u'$ETIM', u'PrimeDuringPreplateShake'] (49505, 32) (186500, 33) [u'BL3-H' u'BL4-A'] [u'BL3-H' u'BL4-A']\n",
      "\n",
      "MTA COLUMNS 2: [u'BL3-A', u'BL3-H', u'BL4-A', u'BL4-H', u'CD11B A : APC-CY7 A', u'CD11B H : APC-CY7 H', u'CD11C A : APC A', u'CD11C H : APC H', u'CD19 A : CD3 A : PE-CY7 A', u'CD19 H : CD3 H : PE-CY7 H', u'CD33 A : BV510 A', u'CD33 H : BV510 H', u'CD34 A : BV605 A', u'CD34 H : BV605 H', u'CD66B A : FITC A', u'CD66B H : FITC H', u'DAPI A', u'DAPI H', u'FSC-A', u'FSC-H', u'KIT A : PE A', u'KIT H : PE H', u'SSC-A', u'SSC-H', u'Time', u'VL3-A', u'VL3-H', u'VL5-A', u'VL5-H', u'VL6-A', u'VL6-H', u'Well', u'Width']\n",
      "\n",
      "WDTA.columns [u'BL3-A', u'BL3-H', u'BL4-A', u'BL4-H', u'CD11B A : APC-CY7 A', u'CD11B H : APC-CY7 H', u'CD11C A : APC A', u'CD11C H : APC H', u'CD19 A : CD3 A : PE-CY7 A', u'CD19 H : CD3 H : PE-CY7 H', u'CD33 A : BV510 A', u'CD33 H : BV510 H', u'CD34 A : BV605 A', u'CD34 H : BV605 H', u'CD66B A : FITC A', u'CD66B H : FITC H', u'DAPI A', u'DAPI H', u'FSC-A', u'FSC-H', u'KIT A : PE A', u'KIT H : PE H', u'SSC-A', u'SSC-H', u'Time', u'VL3-A', u'VL3-H', u'VL5-A', u'VL5-H', u'VL6-A', u'VL6-H', 'Well', u'Width']\n"
     ]
    }
   ],
   "source": [
    "from glob import glob as gg\n",
    "from os import path as op\n",
    "import re\n",
    "\n",
    "from pandas import DataFrame as pd\n",
    "\n",
    "import fcsparser\n",
    "\n",
    "# run instance\n",
    "#path = fcsparser.test_sample_path # path to a test data file that is included with the package\n",
    "path = '../../data/20180129_NotableLabs/live_dead_debris/'\n",
    "\n",
    "fnames   = gg(path + \"Well*fcs\")\n",
    "mta, dta = fcsparser.parse(fnames[1], meta_data_only=False, reformat_meta=True)\n",
    "\n",
    "# init - allocate memory\n",
    "rows    = [op.basename(f) for f in fnames]\n",
    "cols    = list(mta['_channel_names_'])\n",
    "dct = { 'mta'  : pd(   index=rows), \n",
    "        'dta'  : pd(               columns=cols + [u\"Well\"]), \n",
    "        'dmin' : pd(0, index=rows, columns=cols), \n",
    "        'dmax' : pd(0, index=rows, columns=cols), \n",
    "        'dmean': pd(0, index=rows, columns=cols)\n",
    "    }\n",
    "\n",
    "# check\n",
    "for i in range(len(cols)):\n",
    "    if cols[i] != dta.columns[i]:\n",
    "        print i\n",
    "\n",
    "print '\\nTYPE:', type(mta), type(dta)\n",
    "#print '\\nMTA KEYS:', mta.keys()\n",
    "#print mta['_channels_'].head(10)\n",
    "print '\\nMTA COLUMNS:', [ i for i in dct['dta'].columns]\n",
    "print '\\nDTAshape:', dct['dta'].shape, 'MINshape:', dct['dmin'].shape\n",
    "\n",
    "#meta, dta = fcsparser.parse(path, meta_data_only=False, reformat_meta=True)\n",
    "from os import path as op\n",
    "\n",
    "# read input\n",
    "print '\\nMTA COLUMNS 1:', [ i for i in dct['dta'].columns]\n",
    "for f in fnames:\n",
    "    mta, dta = fcsparser.parse(f, meta_data_only=False, reformat_meta=True)\n",
    "    fb = op.basename(f)\n",
    "    wdta       = dta.append(pd(fb, index=range(len(dta)), columns=[\"Well\"]), \n",
    "                            ignore_index=True)\n",
    "    dct['dta'] = dct['dta'].append(wdta, ignore_index=True)                                   \n",
    "    dct['mta'].loc[fb] = mta\n",
    "    dct['dmin'].loc[fb]  = dta.min().tolist()\n",
    "    dct['dmax'].loc[fb]  = dta.max().tolist()\n",
    "    dct['dmean'].loc[fb] = dta.mean().tolist()\n",
    "    print fb\n",
    "    print dta.shape, len(dta.mean()), dta.mean().tolist()\n",
    "    print wdta.shape, len(wdta.mean()), wdta.mean().tolist()\n",
    "    print fb, mta.keys()[1:3], dta.shape, dct['dta'].shape, \n",
    "    print wdta.columns.values[1:3], dct['dta'].columns.values[1:3]\n",
    "#    if fb == 'Well_C04.fcs': break\n",
    "    \n",
    "\n",
    "print '\\nMTA COLUMNS 2:', [ i for i in dct['dta'].columns]\n",
    "print \"\\nWDTA.columns\", [i for i in wdta.columns]\n",
    "\n",
    "# print range stats\n",
    "#print \"\\nMIN\\n\", dct['dmin'].describe()\n",
    "#print \"\\nMAX\\n\", dct['dmax'].describe()\n",
    "#print \"\\nMEAN\\n\", dct['dmean'].describe()\n",
    "\n"
   ]
  },
  {
   "cell_type": "code",
   "execution_count": 7,
   "metadata": {
    "collapsed": false
   },
   "outputs": [
    {
     "name": "stdout",
     "output_type": "stream",
     "text": [
      "(49505, 32) (49505, 32)\n"
     ]
    },
    {
     "data": {
      "text/plain": [
       "FrozenList([None])"
      ]
     },
     "execution_count": 7,
     "metadata": {},
     "output_type": "execute_result"
    }
   ],
   "source": [
    "k = dta + dta\n",
    "print dta.shape, k.shape\n",
    "dta.columns.names"
   ]
  },
  {
   "cell_type": "markdown",
   "metadata": {},
   "source": [
    "# Unpack meta and data, reformat meta"
   ]
  },
  {
   "cell_type": "code",
   "execution_count": 5,
   "metadata": {
    "collapsed": false
   },
   "outputs": [
    {
     "name": "stdout",
     "output_type": "stream",
     "text": [
      "\n",
      "MTA COLUMNS 1: [u'BL3-A', u'BL3-H', u'BL4-A', u'BL4-H', u'CD11B A : APC-CY7 A', u'CD11B H : APC-CY7 H', u'CD11C A : APC A', u'CD11C H : APC H', u'CD19 A : CD3 A : PE-CY7 A', u'CD19 H : CD3 H : PE-CY7 H', u'CD33 A : BV510 A', u'CD33 H : BV510 H', u'CD34 A : BV605 A', u'CD34 H : BV605 H', u'CD66B A : FITC A', u'CD66B H : FITC H', u'DAPI A', u'DAPI H', u'FSC-A', u'FSC-H', u'KIT A : PE A', u'KIT H : PE H', u'SSC-A', u'SSC-H', u'Time', u'VL3-A', u'VL3-H', u'VL5-A', u'VL5-H', u'VL6-A', u'VL6-H', u'Well', u'Width']\n",
      "Well_C03.fcs [u'$ETIM', u'PrimeDuringPreplateShake'] (43745, 32) (174980, 33) [u'BL3-H' u'BL4-A'] [u'BL3-H' u'BL4-A']\n",
      "Well_C04.fcs [u'$ETIM', u'PrimeDuringPreplateShake'] (49505, 32) (273990, 33) [u'BL3-H' u'BL4-A'] [u'BL3-H' u'BL4-A']\n",
      "\n",
      "MTA COLUMNS 2: [u'BL3-A', u'BL3-H', u'BL4-A', u'BL4-H', u'CD11B A : APC-CY7 A', u'CD11B H : APC-CY7 H', u'CD11C A : APC A', u'CD11C H : APC H', u'CD19 A : CD3 A : PE-CY7 A', u'CD19 H : CD3 H : PE-CY7 H', u'CD33 A : BV510 A', u'CD33 H : BV510 H', u'CD34 A : BV605 A', u'CD34 H : BV605 H', u'CD66B A : FITC A', u'CD66B H : FITC H', u'DAPI A', u'DAPI H', u'FSC-A', u'FSC-H', u'KIT A : PE A', u'KIT H : PE H', u'SSC-A', u'SSC-H', u'Time', u'VL3-A', u'VL3-H', u'VL5-A', u'VL5-H', u'VL6-A', u'VL6-H', u'Well', u'Width']\n",
      "\n",
      "WDTA.columns [u'BL3-A', u'BL3-H', u'BL4-A', u'BL4-H', u'CD11B A : APC-CY7 A', u'CD11B H : APC-CY7 H', u'CD11C A : APC A', u'CD11C H : APC H', u'CD19 A : CD3 A : PE-CY7 A', u'CD19 H : CD3 H : PE-CY7 H', u'CD33 A : BV510 A', u'CD33 H : BV510 H', u'CD34 A : BV605 A', u'CD34 H : BV605 H', u'CD66B A : FITC A', u'CD66B H : FITC H', u'DAPI A', u'DAPI H', u'FSC-A', u'FSC-H', u'KIT A : PE A', u'KIT H : PE H', u'SSC-A', u'SSC-H', u'Time', u'VL3-A', u'VL3-H', u'VL5-A', u'VL5-H', u'VL6-A', u'VL6-H', 'Well', u'Width']\n"
     ]
    }
   ],
   "source": []
  },
  {
   "cell_type": "markdown",
   "metadata": {},
   "source": [
    "# Untransformed data\n",
    "\n",
    "The plot below is a plot of the raw data as recorded in the file. Specifically, no compensation or transformation has been applied to this data.\n",
    "\n",
    "To better visualize this data you might want to take a look at either hlog or logicle transformations."
   ]
  },
  {
   "cell_type": "code",
   "execution_count": null,
   "metadata": {
    "collapsed": false
   },
   "outputs": [],
   "source": [
    "import matplotlib.pyplot as plt\n",
    "import seaborn as sns\n",
    "\n",
    "sns.set(style=\"white\")\n",
    "sdta = dta.iloc[:,1:33].sample(100)\n",
    "sdta = dct['dta'].iloc[:,1:33].sample(100)\n",
    "sdta.describe()\n"
   ]
  },
  {
   "cell_type": "code",
   "execution_count": null,
   "metadata": {
    "collapsed": false,
    "scrolled": true
   },
   "outputs": [
    {
     "name": "stderr",
     "output_type": "stream",
     "text": [
      "No handlers could be found for logger \"matplotlib.legend\"\n",
      "/usr/local/lib/python2.7/site-packages/matplotlib/contour.py:967: UserWarning: The following kwargs were not used by contour: 'color', 'label'\n",
      "  s)\n"
     ]
    }
   ],
   "source": [
    "g = sns.PairGrid(sdta)\n",
    "#g.map_diag(plt.hist)\n",
    "g.map_diag(sns.kdeplot, lw=3)\n",
    "#g.map_upper(plt.scatter, alpha=0.4, marker='.')\n",
    "g.map_lower(sns.kdeplot, cmap=\"Blues_d\")\n",
    "#g.add_legend()\n",
    "g.savefig('plot_pairgrid.pdf')\n",
    "\n",
    "#scatter(data.head(10)['FITC-A'], data.head(10)['AmCyan-A'], alpha=0.8, color='gray')\n",
    "#scatter(dta['FSC-A'], dta['FSC-H'], alpha=0.8, color='gray')\n",
    "#scatter(dta['SSC-A'], dta['SSC-H'], alpha=0.8, color='gray')\n",
    "#scatter(dta['CD66B H : FITC H'], dta['CD66B A : FITC A'], alpha=0.8, color='gray')"
   ]
  },
  {
   "cell_type": "code",
   "execution_count": null,
   "metadata": {
    "collapsed": true
   },
   "outputs": [],
   "source": []
  },
  {
   "cell_type": "code",
   "execution_count": null,
   "metadata": {
    "collapsed": true
   },
   "outputs": [],
   "source": [
    "#from pandas import plotting as plt \n",
    "#plt.scatter_matrix(dta.head(100)[,1:3], marker='.', figsize=(10, 10)) \n"
   ]
  },
  {
   "cell_type": "code",
   "execution_count": 1,
   "metadata": {
    "collapsed": false
   },
   "outputs": [
    {
     "ename": "NameError",
     "evalue": "name 'dta' is not defined",
     "output_type": "error",
     "traceback": [
      "\u001b[0;31m---------------------------------------------------------------------------\u001b[0m",
      "\u001b[0;31mNameError\u001b[0m                                 Traceback (most recent call last)",
      "\u001b[0;32m<ipython-input-1-b2bb749fa084>\u001b[0m in \u001b[0;36m<module>\u001b[0;34m()\u001b[0m\n\u001b[1;32m      1\u001b[0m \u001b[0mget_ipython\u001b[0m\u001b[0;34m(\u001b[0m\u001b[0;34m)\u001b[0m\u001b[0;34m.\u001b[0m\u001b[0mmagic\u001b[0m\u001b[0;34m(\u001b[0m\u001b[0;34mu'run scatter_matrix_all.py'\u001b[0m\u001b[0;34m)\u001b[0m\u001b[0;34m\u001b[0m\u001b[0m\n\u001b[0;32m----> 2\u001b[0;31m \u001b[0mscatter_matrix_all\u001b[0m\u001b[0;34m(\u001b[0m\u001b[0mdta\u001b[0m\u001b[0;34m.\u001b[0m\u001b[0mhead\u001b[0m\u001b[0;34m(\u001b[0m\u001b[0;36m100\u001b[0m\u001b[0;34m)\u001b[0m\u001b[0;34m,\u001b[0m \u001b[0moutfile\u001b[0m\u001b[0;34m=\u001b[0m\u001b[0;34m'raw.pdf'\u001b[0m\u001b[0;34m,\u001b[0m \u001b[0malpha\u001b[0m\u001b[0;34m=\u001b[0m\u001b[0;36m0.4\u001b[0m\u001b[0;34m,\u001b[0m \u001b[0mfigsize\u001b[0m\u001b[0;34m=\u001b[0m\u001b[0;34m(\u001b[0m\u001b[0;36m25\u001b[0m\u001b[0;34m,\u001b[0m\u001b[0;36m25\u001b[0m\u001b[0;34m)\u001b[0m\u001b[0;34m)\u001b[0m\u001b[0;34m\u001b[0m\u001b[0m\n\u001b[0m",
      "\u001b[0;31mNameError\u001b[0m: name 'dta' is not defined"
     ]
    }
   ],
   "source": [
    "%run scatter_matrix_all.py\n",
    "scatter_matrix_all(dta.head(100), outfile='raw.pdf', alpha=0.4, figsize=(25,25))\n"
   ]
  },
  {
   "cell_type": "code",
   "execution_count": null,
   "metadata": {
    "collapsed": true
   },
   "outputs": [],
   "source": []
  }
 ],
 "metadata": {
  "kernelspec": {
   "display_name": "Python 2",
   "language": "python",
   "name": "python2"
  },
  "language_info": {
   "codemirror_mode": {
    "name": "ipython",
    "version": 2
   },
   "file_extension": ".py",
   "mimetype": "text/x-python",
   "name": "python",
   "nbconvert_exporter": "python",
   "pygments_lexer": "ipython2",
   "version": "2.7.12"
  }
 },
 "nbformat": 4,
 "nbformat_minor": 0
}
